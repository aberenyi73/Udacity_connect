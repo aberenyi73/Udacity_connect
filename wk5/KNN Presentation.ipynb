{
 "cells": [
  {
   "cell_type": "markdown",
   "metadata": {},
   "source": [
    "### KNN\n",
    "* KNN can be used for:\n",
    " Handwriten character classificaton using nearest neighbor in large databases.\n",
    " Smith, S.J et. al.; IEEE PAMI, 2004. Classify handwriten characters into numbers. Fast content-based image retrieval based on equal-average K-nearest-neighbor search schemes Z. Lu, H. Burkhardt, S. Boehmer; LNCS, 2006.\n",
    " CBIR (Content based image retrieval), return the closest neighbors as the relevant items to a query. Use of K-Nearest Neighbor classifer for intrusion detecton Yihua Liao, V.Rao Vemuri; Computers and Security Journal, 2002\n",
    " Classify program behavior as normal or intrusive. Fault Detecton Using the k-Nearest Neighbor Rule for Semiconductor Manufacturing Processes He, Q.P., Jin Wang; IEEE Transactons in Semiconductor Manufacturing, 2007\n",
    " Early fault detecton in industrial systems. \n",
    "* KNN's pros are that it is simple and powerful. There is no training is necessary and there is no need to tune for complex parameters (https://ocw.mit.edu/courses/sloan-school-of-management/15-097-prediction-machine-learning-and-statistics-spring-2012/lecture-notes/MIT15_097S12_lec06.pdf)\n",
    "* KNN's cons are that prediction time complexity is proportional to training data set size. \n",
    "* KNN may be a good choice for classification because we have many data points. A large enough K can be chosen to average over local points and smooth out high variace issues. [introduction-k-neighbours-algorithm-clustering](https://www.analyticsvidhya.com/blog/2014/10/introduction-k-neighbours-algorithm-clustering/)\n"
   ]
  },
  {
   "cell_type": "code",
   "execution_count": null,
   "metadata": {
    "collapsed": true
   },
   "outputs": [],
   "source": []
  }
 ],
 "metadata": {
  "kernelspec": {
   "display_name": "Python 2",
   "language": "python",
   "name": "python2"
  },
  "language_info": {
   "codemirror_mode": {
    "name": "ipython",
    "version": 2
   },
   "file_extension": ".py",
   "mimetype": "text/x-python",
   "name": "python",
   "nbconvert_exporter": "python",
   "pygments_lexer": "ipython2",
   "version": "2.7.14"
  }
 },
 "nbformat": 4,
 "nbformat_minor": 2
}
